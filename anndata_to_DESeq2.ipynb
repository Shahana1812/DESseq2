{
 "cells": [
  {
   "cell_type": "code",
   "execution_count": 1,
   "metadata": {
    "id": "4Uuy902lBUxD"
   },
   "outputs": [
    {
     "data": {
      "text/plain": [
       "'/home/icb/shahana.dilruba/miniforge3/envs/pertpy/bin/python'"
      ]
     },
     "execution_count": 1,
     "metadata": {},
     "output_type": "execute_result"
    }
   ],
   "source": [
    "import numpy as np\n",
    "import pandas as pd\n",
    "import scanpy as sc\n",
    "import anndata\n",
    "import os\n",
    "import sys\n",
    "from scipy import sparse\n",
    "sc.settings.verbosity = 1  # verbosity: errors (0), warnings (1), info (2), hints (3)\n",
    "sys.executable   \n",
    "     "
   ]
  },
  {
   "cell_type": "code",
   "execution_count": 2,
   "metadata": {
    "id": "PiRIIm_yBcHq"
   },
   "outputs": [],
   "source": [
    "sc.set_figure_params(dpi=100, frameon=False, facecolor=None, transparent=True)"
   ]
  },
  {
   "cell_type": "code",
   "execution_count": 3,
   "metadata": {},
   "outputs": [
    {
     "name": "stderr",
     "output_type": "stream",
     "text": [
      "/home/icb/shahana.dilruba/miniforge3/envs/pertpy/lib/python3.10/site-packages/anndata/__init__.py:51: FutureWarning: `anndata.read` is deprecated, use `anndata.read_h5ad` instead. `ad.read` will be removed in mid 2024.\n",
      "  warnings.warn(\n"
     ]
    }
   ],
   "source": [
    "#Load Anndata\n",
    "adata = sc.read('celltypist_model_chosen_lungatlas_data.h5ad')"
   ]
  },
  {
   "cell_type": "code",
   "execution_count": 26,
   "metadata": {},
   "outputs": [
    {
     "data": {
      "text/plain": [
       "AnnData object with n_obs × n_vars = 254630 × 18115\n",
       "    obs: 'identifier', 'patient', 'name', 'barcode_round', 'sample', 'viral_counts', 'treatment', 'treatment_virus', 'infected', 'n_counts', 'n_genes', 'percent_mito', 'percent_viral', 'leiden', 'final_bcs', 'batch', 'celltype_coarse', 'cell_type', 'infection_label', '_scvi_batch', '_scvi_labels', 'leiden_coarse', 'leiden_fine', 'leiden_subset', 'celltype_fine', 'celltype_approx', 'predicted_labels', 'over_clustering', 'majority_voting', 'conf_score'\n",
       "    var: 'used_for_scvi'\n",
       "    uns: '_scvi', 'cell_type_colors', 'celltype_approx_colors', 'celltype_coarse_colors', 'celltype_fine_colors', 'dendrogram_leiden_fine', 'hvg', 'infected_colors', 'leiden', 'leiden_coarse_colors', 'leiden_colors', 'leiden_fine_colors', 'majority_voting_colors', 'neighbors', 'patient_colors', 'predicted_labels_colors', 'rank_genes_groups', 'treatment_colors', 'umap'\n",
       "    obsm: 'X_pca', 'X_scVI', 'X_umap'\n",
       "    layers: 'counts'\n",
       "    obsp: 'connectivities', 'distances'"
      ]
     },
     "execution_count": 26,
     "metadata": {},
     "output_type": "execute_result"
    }
   ],
   "source": [
    "adata"
   ]
  },
  {
   "cell_type": "code",
   "execution_count": 37,
   "metadata": {},
   "outputs": [
    {
     "data": {
      "text/plain": [
       "muc21058_AAACCCAAGTTTGAGA    muc21058\n",
       "muc21058_AAACCCACACGCGCAT    muc21058\n",
       "muc21058_AAACCCACAGACACAG    muc21058\n",
       "muc21058_AAACCCAGTATTGCCA    muc21058\n",
       "muc21058_AAACCCAGTCGTATTG    muc21058\n",
       "                               ...   \n",
       "muc22968_TTTGTTGCATCACCAA    muc22968\n",
       "muc22968_TTTGTTGGTTCCGTTC    muc22968\n",
       "muc22968_TTTGTTGTCCACACCT    muc22968\n",
       "muc22968_TTTGTTGTCTAACGGT    muc22968\n",
       "muc22968_TTTGTTGTCTTGGAAC    muc22968\n",
       "Name: identifier, Length: 254630, dtype: category\n",
       "Categories (12, object): ['muc21058', 'muc21059', 'muc21060', 'muc21061', ..., 'muc22965', 'muc22966', 'muc22967', 'muc22968']"
      ]
     },
     "execution_count": 37,
     "metadata": {},
     "output_type": "execute_result"
    }
   ],
   "source": [
    "adata.obs.identifier"
   ]
  },
  {
   "cell_type": "code",
   "execution_count": 38,
   "metadata": {},
   "outputs": [],
   "source": [
    "sample_names = adata.obs.identifier"
   ]
  },
  {
   "cell_type": "code",
   "execution_count": 39,
   "metadata": {},
   "outputs": [],
   "source": [
    "# Create a DataFrame with sample names\n",
    "df = pd.DataFrame({'SampleName': sample_names})"
   ]
  },
  {
   "cell_type": "code",
   "execution_count": 40,
   "metadata": {},
   "outputs": [],
   "source": [
    "# Define the output CSV file path\n",
    "output_csv_file = 'sample_names.csv'"
   ]
  },
  {
   "cell_type": "code",
   "execution_count": 41,
   "metadata": {},
   "outputs": [],
   "source": [
    "# Write the DataFrame to a CSV file\n",
    "df.to_csv(output_csv_file, index=False)"
   ]
  },
  {
   "cell_type": "code",
   "execution_count": 4,
   "metadata": {},
   "outputs": [
    {
     "data": {
      "text/html": [
       "<div>\n",
       "<style scoped>\n",
       "    .dataframe tbody tr th:only-of-type {\n",
       "        vertical-align: middle;\n",
       "    }\n",
       "\n",
       "    .dataframe tbody tr th {\n",
       "        vertical-align: top;\n",
       "    }\n",
       "\n",
       "    .dataframe thead th {\n",
       "        text-align: right;\n",
       "    }\n",
       "</style>\n",
       "<table border=\"1\" class=\"dataframe\">\n",
       "  <thead>\n",
       "    <tr style=\"text-align: right;\">\n",
       "      <th></th>\n",
       "      <th>counts</th>\n",
       "      <th>freqs</th>\n",
       "    </tr>\n",
       "    <tr>\n",
       "      <th>categories</th>\n",
       "      <th></th>\n",
       "      <th></th>\n",
       "    </tr>\n",
       "  </thead>\n",
       "  <tbody>\n",
       "    <tr>\n",
       "      <th>?</th>\n",
       "      <td>7248</td>\n",
       "      <td>0.028465</td>\n",
       "    </tr>\n",
       "    <tr>\n",
       "      <th>PNEC</th>\n",
       "      <td>48</td>\n",
       "      <td>0.000189</td>\n",
       "    </tr>\n",
       "    <tr>\n",
       "      <th>basal</th>\n",
       "      <td>53652</td>\n",
       "      <td>0.210706</td>\n",
       "    </tr>\n",
       "    <tr>\n",
       "      <th>basal prolif.</th>\n",
       "      <td>7048</td>\n",
       "      <td>0.027679</td>\n",
       "    </tr>\n",
       "    <tr>\n",
       "      <th>ciliated</th>\n",
       "      <td>9524</td>\n",
       "      <td>0.037403</td>\n",
       "    </tr>\n",
       "    <tr>\n",
       "      <th>club</th>\n",
       "      <td>67723</td>\n",
       "      <td>0.265966</td>\n",
       "    </tr>\n",
       "    <tr>\n",
       "      <th>deuterosomal</th>\n",
       "      <td>1611</td>\n",
       "      <td>0.006327</td>\n",
       "    </tr>\n",
       "    <tr>\n",
       "      <th>goblet</th>\n",
       "      <td>2603</td>\n",
       "      <td>0.010223</td>\n",
       "    </tr>\n",
       "    <tr>\n",
       "      <th>hillock</th>\n",
       "      <td>21544</td>\n",
       "      <td>0.084609</td>\n",
       "    </tr>\n",
       "    <tr>\n",
       "      <th>ionocytes</th>\n",
       "      <td>733</td>\n",
       "      <td>0.002879</td>\n",
       "    </tr>\n",
       "    <tr>\n",
       "      <th>suprabasal</th>\n",
       "      <td>81614</td>\n",
       "      <td>0.320520</td>\n",
       "    </tr>\n",
       "    <tr>\n",
       "      <th>tuft</th>\n",
       "      <td>442</td>\n",
       "      <td>0.001736</td>\n",
       "    </tr>\n",
       "    <tr>\n",
       "      <th>viral</th>\n",
       "      <td>840</td>\n",
       "      <td>0.003299</td>\n",
       "    </tr>\n",
       "  </tbody>\n",
       "</table>\n",
       "</div>"
      ],
      "text/plain": [
       "               counts     freqs\n",
       "categories                     \n",
       "?                7248  0.028465\n",
       "PNEC               48  0.000189\n",
       "basal           53652  0.210706\n",
       "basal prolif.    7048  0.027679\n",
       "ciliated         9524  0.037403\n",
       "club            67723  0.265966\n",
       "deuterosomal     1611  0.006327\n",
       "goblet           2603  0.010223\n",
       "hillock         21544  0.084609\n",
       "ionocytes         733  0.002879\n",
       "suprabasal      81614  0.320520\n",
       "tuft              442  0.001736\n",
       "viral             840  0.003299"
      ]
     },
     "execution_count": 4,
     "metadata": {},
     "output_type": "execute_result"
    }
   ],
   "source": [
    "#Generate metadata\n",
    "adata.obs['cell_type'].values.describe()"
   ]
  },
  {
   "cell_type": "code",
   "execution_count": 5,
   "metadata": {},
   "outputs": [],
   "source": [
    "df_meta = pd.DataFrame(data={'Cell':list(adata.obs.index),\n",
    "                             'cell_type':[ i for i in adata.obs['cell_type']]\n",
    "                            })\n",
    "df_meta.set_index('Cell', inplace=True)\n",
    "df_meta.to_csv('celltypist_lungatlas_model.tsv', sep = '\\t')"
   ]
  },
  {
   "cell_type": "code",
   "execution_count": 6,
   "metadata": {},
   "outputs": [],
   "source": [
    "#Compute DEGs (optional)\n",
    "# Convert to dense matrix for Seurat\n",
    "adata.X = adata.X.toarray()"
   ]
  },
  {
   "cell_type": "code",
   "execution_count": 7,
   "metadata": {},
   "outputs": [
    {
     "name": "stderr",
     "output_type": "stream",
     "text": [
      "/tmp/ipykernel_1624808/692066777.py:5: DeprecationWarning: The global conversion available with activate() is deprecated and will be removed in the next major release. Use a local converter.\n",
      "  anndata2ri.activate()\n"
     ]
    }
   ],
   "source": [
    "import rpy2.rinterface_lib.callbacks\n",
    "import logging\n",
    "rpy2.rinterface_lib.callbacks.logger.setLevel(logging.ERROR)\n",
    "import anndata2ri\n",
    "anndata2ri.activate()\n",
    "%load_ext rpy2.ipython"
   ]
  },
  {
   "cell_type": "code",
   "execution_count": 9,
   "metadata": {
    "id": "znh-jKyiCUZT"
   },
   "outputs": [],
   "source": [
    "from scipy import io"
   ]
  },
  {
   "cell_type": "code",
   "execution_count": 11,
   "metadata": {},
   "outputs": [
    {
     "data": {
      "text/plain": [
       "AnnData object with n_obs × n_vars = 254630 × 18115\n",
       "    obs: 'identifier', 'patient', 'name', 'barcode_round', 'sample', 'viral_counts', 'treatment', 'treatment_virus', 'infected', 'n_counts', 'n_genes', 'percent_mito', 'percent_viral', 'leiden', 'final_bcs', 'batch', 'celltype_coarse', 'cell_type', 'infection_label', '_scvi_batch', '_scvi_labels', 'leiden_coarse', 'leiden_fine', 'leiden_subset', 'celltype_fine', 'celltype_approx', 'predicted_labels', 'over_clustering', 'majority_voting', 'conf_score'\n",
       "    var: 'used_for_scvi'\n",
       "    uns: '_scvi', 'cell_type_colors', 'celltype_approx_colors', 'celltype_coarse_colors', 'celltype_fine_colors', 'dendrogram_leiden_fine', 'hvg', 'infected_colors', 'leiden', 'leiden_coarse_colors', 'leiden_colors', 'leiden_fine_colors', 'majority_voting_colors', 'neighbors', 'patient_colors', 'predicted_labels_colors', 'rank_genes_groups', 'treatment_colors', 'umap'\n",
       "    obsm: 'X_pca', 'X_scVI', 'X_umap'\n",
       "    layers: 'counts'\n",
       "    obsp: 'connectivities', 'distances'"
      ]
     },
     "execution_count": 11,
     "metadata": {},
     "output_type": "execute_result"
    }
   ],
   "source": [
    "adata"
   ]
  },
  {
   "cell_type": "code",
   "execution_count": 13,
   "metadata": {},
   "outputs": [],
   "source": [
    "!mkdir matrix_files"
   ]
  },
  {
   "cell_type": "code",
   "execution_count": 15,
   "metadata": {
    "id": "IwJRhj4TCzG9"
   },
   "outputs": [],
   "source": [
    "with open('matrix_files/barcodes.tsv', 'w') as f:\n",
    "    for item in adata.obs_names:\n",
    "        f.write(item + '\\n')"
   ]
  },
  {
   "cell_type": "code",
   "execution_count": 16,
   "metadata": {
    "id": "iccBLqNfDcnY"
   },
   "outputs": [],
   "source": [
    "with open('matrix_files/features.tsv', 'w') as f:\n",
    "    for item in ['\\t'.join([x,x,'Gene Expression']) for x in adata.var_names]:\n",
    "        f.write(item + '\\n')"
   ]
  },
  {
   "cell_type": "code",
   "execution_count": 18,
   "metadata": {
    "id": "gAEHANvvDjHy"
   },
   "outputs": [],
   "source": [
    "io.mmwrite('matrix_files/matrix', adata.X.T)"
   ]
  },
  {
   "cell_type": "code",
   "execution_count": 20,
   "metadata": {
    "colab": {
     "base_uri": "https://localhost:8080/"
    },
    "id": "eCOTqBCgDi5P",
    "outputId": "4c55a91c-cba5-4ef0-a2c8-54773dc95039"
   },
   "outputs": [
    {
     "name": "stdout",
     "output_type": "stream",
     "text": [
      "barcodes.tsv  features.tsv  matrix\n"
     ]
    }
   ],
   "source": [
    "!ls matrix_files/"
   ]
  },
  {
   "cell_type": "code",
   "execution_count": 21,
   "metadata": {
    "id": "a0HwnbdyJ2pE"
   },
   "outputs": [],
   "source": [
    "!gzip matrix_files/*"
   ]
  },
  {
   "cell_type": "code",
   "execution_count": 15,
   "metadata": {
    "colab": {
     "base_uri": "https://localhost:8080/"
    },
    "id": "-cC-2AOiJ6D1",
    "outputId": "35b8fcc7-a834-4525-ea26-0f209289ebfa"
   },
   "outputs": [
    {
     "name": "stdout",
     "output_type": "stream",
     "text": [
      "barcodes.tsv  barcodes.tsv.gz  features.tsv  features.tsv.gz  matrix  matrix.gz\n"
     ]
    }
   ],
   "source": [
    "!ls matrix_files/"
   ]
  },
  {
   "cell_type": "code",
   "execution_count": 22,
   "metadata": {
    "id": "B7xou8wGKAoM"
   },
   "outputs": [],
   "source": [
    "adata.obs.to_csv('metadata.csv')"
   ]
  },
  {
   "cell_type": "code",
   "execution_count": 24,
   "metadata": {},
   "outputs": [
    {
     "data": {
      "text/plain": [
       "Index(['SAMD11', 'NOC2L', 'KLHL17', 'PLEKHN1', 'PERM1', 'HES4', 'ISG15',\n",
       "       'AGRN', 'RNF223', 'C1orf159',\n",
       "       ...\n",
       "       'S-minus', 'ORF3a-minus', 'E-minus', 'M-minus', 'ORF6-minus',\n",
       "       'ORF7a-minus', 'ORF7b-minus', 'ORF8-minus', 'N-minus', 'ORF10-minus'],\n",
       "      dtype='object', length=18115)"
      ]
     },
     "execution_count": 24,
     "metadata": {},
     "output_type": "execute_result"
    }
   ],
   "source": [
    "adata.var_names"
   ]
  },
  {
   "cell_type": "code",
   "execution_count": 25,
   "metadata": {},
   "outputs": [],
   "source": [
    "import csv\n",
    "\n",
    "# Paths to the CSV and TSV files\n",
    "csv_file_path = '/home/icb/shahana.dilruba/metadata.csv'\n",
    "tsv_file_path = '/home/icb/shahana.dilruba/metadata.tsv'\n",
    "\n",
    "# Open the CSV file for reading and TSV file for writing\n",
    "with open(csv_file_path, 'r', newline='') as csv_file, open(tsv_file_path, 'w', newline='') as tsv_file:\n",
    "    csv_reader = csv.reader(csv_file)\n",
    "    tsv_writer = csv.writer(tsv_file, delimiter='\\t')\n",
    "\n",
    "    # Iterate over each row in the CSV file and write it to the TSV file\n",
    "    for row in csv_reader:\n",
    "        tsv_writer.writerow(row)\n"
   ]
  },
  {
   "cell_type": "code",
   "execution_count": null,
   "metadata": {},
   "outputs": [],
   "source": []
  }
 ],
 "metadata": {
  "accelerator": "GPU",
  "colab": {
   "gpuType": "T4",
   "machine_shape": "hm",
   "provenance": []
  },
  "kernelspec": {
   "display_name": "pertpy",
   "language": "python",
   "name": "pertpy"
  },
  "language_info": {
   "codemirror_mode": {
    "name": "ipython",
    "version": 3
   },
   "file_extension": ".py",
   "mimetype": "text/x-python",
   "name": "python",
   "nbconvert_exporter": "python",
   "pygments_lexer": "ipython3",
   "version": "3.10.13"
  }
 },
 "nbformat": 4,
 "nbformat_minor": 4
}
